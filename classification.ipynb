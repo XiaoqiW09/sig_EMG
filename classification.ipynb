{
 "cells": [
  {
   "cell_type": "code",
   "execution_count": 1,
   "metadata": {},
   "outputs": [
    {
     "name": "stdout",
     "output_type": "stream",
     "text": [
      "\n",
      "WARNING: statsmodels is not installed. You will be unable to use the Naive Bayes Decoder\n",
      "\n",
      "WARNING: Xgboost package is not installed. You will be unable to use the xgboost decoder\n",
      "\n",
      "WARNING: Keras package is not installed. You will be unable to use all neural net decoders\n"
     ]
    }
   ],
   "source": [
    "%run ./pipeline.ipynb"
   ]
  },
  {
   "cell_type": "code",
   "execution_count": 2,
   "metadata": {},
   "outputs": [
    {
     "name": "stdout",
     "output_type": "stream",
     "text": [
      "Tensorflow not install, you could not use those pipelines\n"
     ]
    },
    {
     "name": "stderr",
     "output_type": "stream",
     "text": [
      "Trials demeaned and stacked with zero buffer to create continuous data -- edge effects present\n"
     ]
    },
    {
     "name": "stdout",
     "output_type": "stream",
     "text": [
      "200 events found\n",
      "Event IDs: [1 2]\n",
      "200 events found\n",
      "Event IDs: [1 2]\n",
      "200 events found\n",
      "Event IDs: [1 2]\n",
      "Used Annotations descriptions: ['left_hand', 'right_hand']\n"
     ]
    }
   ],
   "source": [
    "from braindecode.datasets import MOABBDataset\n",
    "from braindecode.preprocessing import preprocess, Preprocessor\n",
    "from braindecode.datautil import load_concat_dataset\n",
    "from braindecode.preprocessing.windowers import create_windows_from_events\n",
    "from skorch.helper import SliceDataset\n",
    "dataset = MOABBDataset(\n",
    "    dataset_name='Cho2017',\n",
    "    subject_ids=[1],\n",
    ")\n",
    "preprocessors = [\n",
    "    Preprocessor('resample', sfreq=100),\n",
    "]\n",
    "preprocess(dataset, preprocessors)\n",
    "\n",
    "windows_dataset = create_windows_from_events(\n",
    "    dataset,\n",
    "    preload=True,\n",
    ")\n",
    "x = np.array([y.T for y in SliceDataset(windows_dataset, idx=0)])\n",
    "y = np.array([y for y in SliceDataset(windows_dataset, idx=1)])\n",
    "X_train, X_test, y_train, y_test = train_test_split(x,y,train_size = 0.8)\n",
    "X_train = X_train[:,:,:-1]\n",
    "X_test = X_test[:,:,:-1]\n",
    "\n"
   ]
  },
  {
   "cell_type": "code",
   "execution_count": null,
   "metadata": {},
   "outputs": [],
   "source": [
    "method_c = ['ts_knn','ts_svc','logisticregression','svc','knnclassifier','adaboostclassifier','randomforestclassifier']"
   ]
  },
  {
   "cell_type": "code",
   "execution_count": null,
   "metadata": {},
   "outputs": [],
   "source": [
    "for me in tqdm(method_r):\n",
    "    for sc in ['minmax','standard','ModuleNotFoundError']:\n",
    "            for ti in [True,False]:\n",
    "                auto(X_train = X_train, X_test = X_test, y_train = y_train, y_test = y_test, \n",
    "                        dataset = 'BCI', method = me, sig_level = 2,  \n",
    "                        scale = sc, time_aug = ti,\n",
    "                        bins_before = bb, bins_after = ba, bins_current =bc,\n",
    "                        file_path = './results/')"
   ]
  }
 ],
 "metadata": {
  "kernelspec": {
   "display_name": "sig_2",
   "language": "python",
   "name": "python3"
  },
  "language_info": {
   "codemirror_mode": {
    "name": "ipython",
    "version": 3
   },
   "file_extension": ".py",
   "mimetype": "text/x-python",
   "name": "python",
   "nbconvert_exporter": "python",
   "pygments_lexer": "ipython3",
   "version": "3.9.17"
  },
  "orig_nbformat": 4
 },
 "nbformat": 4,
 "nbformat_minor": 2
}
