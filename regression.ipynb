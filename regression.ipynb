{
 "cells": [
  {
   "cell_type": "code",
   "execution_count": 5,
   "metadata": {},
   "outputs": [],
   "source": [
    "%run ./pipeline.ipynb"
   ]
  },
  {
   "cell_type": "code",
   "execution_count": 6,
   "metadata": {},
   "outputs": [],
   "source": [
    "#================import eeg data====================\n",
    "eeg_path= './regression_dataset/eeg.txt'\n",
    "eeg = pd.read_csv(eeg_path,sep='\\t', skiprows=1,header=None)\n",
    "#check Last column whether it is NaN\n",
    "eeg = eeg.dropna(axis=1,how='all')\n",
    "\n",
    "#================import channel data====================\n",
    "channel_path = './regression_dataset/channel.txt'\n",
    "\n",
    "channel = pd.read_csv(channel_path,sep='\\t')\n",
    "\n",
    "#================import joints data====================\n",
    "joints_path = './regression_dataset/joints.txt'\n",
    "joints = pd.read_csv(joints_path,sep='\\t', skiprows=2,header=None)\n",
    "#check the last column whether it is NaN\n",
    "joints = joints.dropna(axis=1,how='all')\n",
    "joints.columns = ['time','GHR', 'GKR', 'GAR', 'GHL' ,'GKL' ,'GAL' ,'PHR' ,'PKR' ,'PAR' ,'PHL' ,'PKL' ,'PAL']\n",
    "#===============rename column of eeg====================\n",
    "column_list = ['time']\n",
    "# add channel['Phys. Chn.] into column_list drop all \\t\n",
    "for i in range(len(channel)-2):\n",
    "    column_list.append(channel['Phys. Chn.'][i].strip())\n",
    "eeg.columns = column_list\n",
    "t = eeg['time']\n",
    "eeg_data = eeg.drop(['time'],axis=1)"
   ]
  },
  {
   "cell_type": "code",
   "execution_count": 7,
   "metadata": {},
   "outputs": [],
   "source": [
    "import numpy as np\n",
    "from scipy.signal import butter, lfilter\n",
    "\n",
    "eeg_data = np.array(eeg_data)\n",
    "\n",
    "# Butterworth bandpass filter settings\n",
    "lowcut = 0.1  # Lower frequency cutoff (Hz)\n",
    "highcut = 3.0  # Upper frequency cutoff (Hz)\n",
    "fs = 100.0  # Sampling frequency (Hz)\n",
    "order = 4  # Filter order\n",
    "\n",
    "# Calculate Nyquist frequency\n",
    "nyquist = 0.5 * fs\n",
    "\n",
    "# Calculate normalized cutoff frequencies\n",
    "low = lowcut / nyquist\n",
    "high = highcut / nyquist\n",
    "\n",
    "# Design a Butterworth bandpass filter\n",
    "b, a = butter(order, [low, high], btype='band')\n",
    "\n",
    "# Apply the filter to each channel of the EEG data\n",
    "filtered_data = lfilter(b, a, eeg_data, axis=0)\n",
    "X = filtered_data[11437:15437]\n",
    "y = np.array(joints['GHR'][11437:15437])\n",
    "X_train, X_test, y_train, y_test = train_test_split(X,y,train_size = 0.8)"
   ]
  },
  {
   "cell_type": "code",
   "execution_count": null,
   "metadata": {},
   "outputs": [],
   "source": [
    "method_r = ['r_svr']\n",
    "for me in method_r:\n",
    "          auto(X_train, X_test, y_train, y_test,\n",
    "             'BCI_0829', me,\n",
    "             reduced = True, bin_reduce = True,\n",
    "             file_path = './')"
   ]
  }
 ],
 "metadata": {
  "kernelspec": {
   "display_name": "sig_2",
   "language": "python",
   "name": "python3"
  },
  "language_info": {
   "codemirror_mode": {
    "name": "ipython",
    "version": 3
   },
   "file_extension": ".py",
   "mimetype": "text/x-python",
   "name": "python",
   "nbconvert_exporter": "python",
   "pygments_lexer": "ipython3",
   "version": "3.9.17"
  },
  "orig_nbformat": 4
 },
 "nbformat": 4,
 "nbformat_minor": 2
}
